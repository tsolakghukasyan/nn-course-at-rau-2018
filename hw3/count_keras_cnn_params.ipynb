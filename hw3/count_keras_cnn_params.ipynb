{
 "cells": [
  {
   "cell_type": "code",
   "execution_count": 1,
   "metadata": {
    "collapsed": false
   },
   "outputs": [
    {
     "name": "stderr",
     "output_type": "stream",
     "text": [
      "Using TensorFlow backend.\n"
     ]
    }
   ],
   "source": [
    "import re\n",
    "import keras\n",
    "from keras.models import Sequential\n",
    "from keras.layers import Dense, Dropout, Flatten\n",
    "from keras.layers import Conv2D, MaxPooling2D"
   ]
  },
  {
   "cell_type": "markdown",
   "metadata": {},
   "source": [
    "# HW3: Computing Weight Counts in Keras CNN Models"
   ]
  },
  {
   "cell_type": "code",
   "execution_count": 2,
   "metadata": {
    "collapsed": false
   },
   "outputs": [],
   "source": [
    "model_desc = \"\"\"model = Sequential()\n",
    "model.add(Conv2D(32, kernel_size=(3, 3), activation='relu', input_shape=input_shape))\n",
    "model.add(Conv2D(64, kernel_size=(3, 3), activation='relu'))\n",
    "model.add(MaxPooling2D(pool_size=(2, 2)))\n",
    "model.add(Dropout(0.25))\n",
    "model.add(Flatten())\n",
    "model.add(Dense(128, activation='relu'))\n",
    "model.add(Dropout(0.5))\n",
    "model.add(Dense(10, activation='softmax'))\"\"\""
   ]
  },
  {
   "cell_type": "code",
   "execution_count": 3,
   "metadata": {
    "collapsed": true
   },
   "outputs": [],
   "source": [
    "def process_desc(model_desc):\n",
    "    filtered = []\n",
    "    for line in model_desc.split('\\n'):\n",
    "        if affects_param_count(line):\n",
    "            filtered.append(process_line(line))\n",
    "    return filtered"
   ]
  },
  {
   "cell_type": "code",
   "execution_count": 4,
   "metadata": {
    "collapsed": false
   },
   "outputs": [],
   "source": [
    "def affects_param_count(line):\n",
    "     return 'Dropout' not in line and 'Sequential' not in line"
   ]
  },
  {
   "cell_type": "code",
   "execution_count": 5,
   "metadata": {
    "collapsed": true
   },
   "outputs": [],
   "source": [
    "def process_line(line):\n",
    "    line = line[line.find('(') + 1: line.rfind(')')]\n",
    "    return line.replace(' ', '')"
   ]
  },
  {
   "cell_type": "code",
   "execution_count": 6,
   "metadata": {
    "collapsed": true
   },
   "outputs": [],
   "source": [
    "def process_layer(layer, weights, input_shape):\n",
    "    params = layer[layer.find('(') + 1: layer.rfind(')')]        \n",
    "    \n",
    "    if 'Conv2D' in layer:\n",
    "        # find the count of kernels (first arg)\n",
    "        kernel_count = int(params[:params.find(',')])\n",
    "        # find the shape of kernel\n",
    "        ksize_search = re.search('kernel_size=\\((\\d+),(\\d+)\\)', params)\n",
    "        kernel_shape = (int(ksize_search.group(1)), int(ksize_search.group(2)))\n",
    "        # update weight count including bias weights\n",
    "        weights += input_shape[2] * kernel_shape[0] * kernel_shape[1] * kernel_count + kernel_count\n",
    "        input_shape = (input_shape[0] - kernel_shape[0] + 1, # reshape because of 'valid' padding\n",
    "                       input_shape[1] - kernel_shape[1] + 1, # reshape because of 'valid' padding\n",
    "                       kernel_count)\n",
    "    \n",
    "    elif 'MaxPooling2D' in layer:\n",
    "        input_shape = (input_shape[0] // 2, input_shape[1] // 2, input_shape[2])\n",
    "    \n",
    "    elif 'Flatten' in layer:\n",
    "        input_shape = (input_shape[0] * input_shape[1] * input_shape[2], )\n",
    "    \n",
    "    elif 'Dense' in layer:\n",
    "        layer_size = int(params[:params.find(',')])\n",
    "        # update weight count including bias weights\n",
    "        weights += input_shape[0] * layer_size + layer_size\n",
    "        input_shape = (layer_size,)\n",
    "\n",
    "    return weights, input_shape"
   ]
  },
  {
   "cell_type": "code",
   "execution_count": 7,
   "metadata": {
    "collapsed": false
   },
   "outputs": [
    {
     "name": "stdout",
     "output_type": "stream",
     "text": [
      "layer \t\t+ weights \toutput shape\n",
      "--------------------------------------------\n",
      "Conv2 \t\t+ 896 \t\t (126, 126, 32)\n",
      "Conv2 \t\t+ 18496 \t\t (124, 124, 64)\n",
      "MaxPo \t\t+ 0 \t\t (62, 62, 64)\n",
      "Flatt \t\t+ 0 \t\t (246016,)\n",
      "Dense \t\t+ 31490176 \t\t (128,)\n",
      "Dense \t\t+ 1290 \t\t (10,)\n",
      "--------------------------------------------\n",
      "Total trainable weights: 31510858\n"
     ]
    }
   ],
   "source": [
    "print('layer', '\\t\\t+ weights', '\\toutput shape')\n",
    "print('--------------------------------------------')\n",
    "\n",
    "weights = 0\n",
    "input_shape = (128, 128, 3)\n",
    "layers = process_desc(model_desc)\n",
    "for layer in layers:\n",
    "    old_w = weights\n",
    "    weights, input_shape = process_layer(layer, weights, input_shape)\n",
    "    print(layer[:5], '\\t\\t+', weights - old_w, '\\t\\t', input_shape)\n",
    "\n",
    "print('--------------------------------------------')\n",
    "print('Total trainable weights:', weights)"
   ]
  },
  {
   "cell_type": "markdown",
   "metadata": {},
   "source": [
    "### Comparing with the output of summary()"
   ]
  },
  {
   "cell_type": "code",
   "execution_count": 8,
   "metadata": {
    "collapsed": false
   },
   "outputs": [],
   "source": [
    "model = Sequential()\n",
    "model.add(Conv2D(32, kernel_size=(3, 3), activation='relu', input_shape=(128, 128, 3)))\n",
    "model.add(Conv2D(64, kernel_size=(3, 3), activation='relu'))\n",
    "model.add(MaxPooling2D(pool_size=(2, 2)))\n",
    "model.add(Dropout(0.25))\n",
    "model.add(Flatten())\n",
    "model.add(Dense(128, activation='relu'))\n",
    "model.add(Dropout(0.5))\n",
    "model.add(Dense(10, activation='softmax'))"
   ]
  },
  {
   "cell_type": "code",
   "execution_count": 9,
   "metadata": {
    "collapsed": false
   },
   "outputs": [
    {
     "name": "stdout",
     "output_type": "stream",
     "text": [
      "_________________________________________________________________\n",
      "Layer (type)                 Output Shape              Param #   \n",
      "=================================================================\n",
      "conv2d_1 (Conv2D)            (None, 126, 126, 32)      896       \n",
      "_________________________________________________________________\n",
      "conv2d_2 (Conv2D)            (None, 124, 124, 64)      18496     \n",
      "_________________________________________________________________\n",
      "max_pooling2d_1 (MaxPooling2 (None, 62, 62, 64)        0         \n",
      "_________________________________________________________________\n",
      "dropout_1 (Dropout)          (None, 62, 62, 64)        0         \n",
      "_________________________________________________________________\n",
      "flatten_1 (Flatten)          (None, 246016)            0         \n",
      "_________________________________________________________________\n",
      "dense_1 (Dense)              (None, 128)               31490176  \n",
      "_________________________________________________________________\n",
      "dropout_2 (Dropout)          (None, 128)               0         \n",
      "_________________________________________________________________\n",
      "dense_2 (Dense)              (None, 10)                1290      \n",
      "=================================================================\n",
      "Total params: 31,510,858\n",
      "Trainable params: 31,510,858\n",
      "Non-trainable params: 0\n",
      "_________________________________________________________________\n"
     ]
    }
   ],
   "source": [
    "model.summary()"
   ]
  },
  {
   "cell_type": "markdown",
   "metadata": {},
   "source": [
    "### Param counts match!"
   ]
  }
 ],
 "metadata": {
  "anaconda-cloud": {},
  "kernelspec": {
   "display_name": "Python [conda root]",
   "language": "python",
   "name": "conda-root-py"
  },
  "language_info": {
   "codemirror_mode": {
    "name": "ipython",
    "version": 3
   },
   "file_extension": ".py",
   "mimetype": "text/x-python",
   "name": "python",
   "nbconvert_exporter": "python",
   "pygments_lexer": "ipython3",
   "version": "3.5.2"
  }
 },
 "nbformat": 4,
 "nbformat_minor": 1
}
