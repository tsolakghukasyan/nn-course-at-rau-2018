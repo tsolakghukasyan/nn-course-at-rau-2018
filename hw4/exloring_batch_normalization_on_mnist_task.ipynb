{
 "cells": [
  {
   "cell_type": "code",
   "execution_count": 75,
   "metadata": {
    "collapsed": false
   },
   "outputs": [],
   "source": [
    "import numpy as np\n",
    "from keras.callbacks import EarlyStopping\n",
    "from keras.datasets import mnist\n",
    "from keras.models import Sequential, Model\n",
    "from keras.layers import BatchNormalization\n",
    "from keras.layers.core import Dense, Dropout, Flatten\n",
    "from keras.layers.convolutional import Conv2D\n",
    "from keras.optimizers import Adam\n",
    "from keras.layers.pooling import MaxPooling2D\n",
    "from keras.utils import to_categorical\n",
    "from matplotlib import pyplot as plt\n",
    "%matplotlib inline"
   ]
  },
  {
   "cell_type": "code",
   "execution_count": 25,
   "metadata": {
    "collapsed": false
   },
   "outputs": [],
   "source": [
    "(X_train, Y_train), (X_test, Y_test) = mnist.load_data()"
   ]
  },
  {
   "cell_type": "code",
   "execution_count": 27,
   "metadata": {
    "collapsed": true
   },
   "outputs": [],
   "source": [
    "X_train = X_train[:10000] / 255\n",
    "X_train = X_train.reshape((10000, 28, 28, 1))\n",
    "Y_train = Y_train[:10000]"
   ]
  },
  {
   "cell_type": "code",
   "execution_count": 28,
   "metadata": {
    "collapsed": true
   },
   "outputs": [],
   "source": [
    "X_test = X_test[:1000] / 255\n",
    "X_test = X_test.reshape((1000, 28, 28, 1))\n",
    "Y_test = Y_test[:1000]"
   ]
  },
  {
   "cell_type": "markdown",
   "metadata": {},
   "source": [
    "#### Training a model w/o batch normalization"
   ]
  },
  {
   "cell_type": "code",
   "execution_count": 38,
   "metadata": {
    "collapsed": true
   },
   "outputs": [],
   "source": [
    "model = Sequential()\n",
    "model.add(Conv2D(32, kernel_size=(3, 3), activation='relu', input_shape=(28, 28, 1)))\n",
    "model.add(Conv2D(64, kernel_size=(3, 3), activation='relu'))\n",
    "model.add(Flatten())\n",
    "model.add(Dense(64, activation='relu'))\n",
    "model.add(Dense(10, activation='softmax'))"
   ]
  },
  {
   "cell_type": "code",
   "execution_count": 39,
   "metadata": {
    "collapsed": true
   },
   "outputs": [],
   "source": [
    "model.compile(loss='categorical_crossentropy',\n",
    "              optimizer='adam',\n",
    "              metrics=['accuracy'])"
   ]
  },
  {
   "cell_type": "code",
   "execution_count": 58,
   "metadata": {
    "collapsed": false
   },
   "outputs": [
    {
     "name": "stdout",
     "output_type": "stream",
     "text": [
      "_________________________________________________________________\n",
      "Layer (type)                 Output Shape              Param #   \n",
      "=================================================================\n",
      "conv2d_7 (Conv2D)            (None, 26, 26, 32)        320       \n",
      "_________________________________________________________________\n",
      "conv2d_8 (Conv2D)            (None, 24, 24, 64)        18496     \n",
      "_________________________________________________________________\n",
      "flatten_4 (Flatten)          (None, 36864)             0         \n",
      "_________________________________________________________________\n",
      "dense_7 (Dense)              (None, 64)                2359360   \n",
      "_________________________________________________________________\n",
      "dense_8 (Dense)              (None, 10)                650       \n",
      "=================================================================\n",
      "Total params: 2,378,826\n",
      "Trainable params: 2,378,826\n",
      "Non-trainable params: 0\n",
      "_________________________________________________________________\n"
     ]
    }
   ],
   "source": [
    "model.summary()"
   ]
  },
  {
   "cell_type": "code",
   "execution_count": 40,
   "metadata": {
    "collapsed": false
   },
   "outputs": [
    {
     "name": "stdout",
     "output_type": "stream",
     "text": [
      "Train on 10000 samples, validate on 1000 samples\n",
      "Epoch 1/5\n",
      "10000/10000 [==============================] - 36s 4ms/step - loss: 0.3469 - acc: 0.8984 - val_loss: 0.1581 - val_acc: 0.9450\n",
      "Epoch 2/5\n",
      "10000/10000 [==============================] - 36s 4ms/step - loss: 0.0880 - acc: 0.9725 - val_loss: 0.0981 - val_acc: 0.9630\n",
      "Epoch 3/5\n",
      "10000/10000 [==============================] - 36s 4ms/step - loss: 0.0458 - acc: 0.9859 - val_loss: 0.1123 - val_acc: 0.9580\n",
      "Epoch 4/5\n",
      "10000/10000 [==============================] - 38s 4ms/step - loss: 0.0295 - acc: 0.9908 - val_loss: 0.1051 - val_acc: 0.9690\n",
      "Epoch 5/5\n",
      "10000/10000 [==============================] - 41s 4ms/step - loss: 0.0119 - acc: 0.9968 - val_loss: 0.1246 - val_acc: 0.9690\n"
     ]
    },
    {
     "data": {
      "text/plain": [
       "<keras.callbacks.History at 0x229de672c88>"
      ]
     },
     "execution_count": 40,
     "metadata": {},
     "output_type": "execute_result"
    }
   ],
   "source": [
    "model.fit(X_train, to_categorical(Y_train),\n",
    "          batch_size=64,\n",
    "          epochs=5,\n",
    "          validation_data=(X_test, to_categorical(Y_test)))\n"
   ]
  },
  {
   "cell_type": "markdown",
   "metadata": {},
   "source": [
    "#### Plotting the histogram of a neuron's activations before batch normalization"
   ]
  },
  {
   "cell_type": "code",
   "execution_count": 45,
   "metadata": {
    "collapsed": false
   },
   "outputs": [
    {
     "data": {
      "text/plain": [
       "[<keras.layers.convolutional.Conv2D at 0x229dd0fa710>,\n",
       " <keras.layers.convolutional.Conv2D at 0x229dd0f6320>,\n",
       " <keras.layers.core.Flatten at 0x229dd103358>,\n",
       " <keras.layers.core.Dense at 0x229dd0fad68>,\n",
       " <keras.layers.core.Dense at 0x229dd0fae48>]"
      ]
     },
     "execution_count": 45,
     "metadata": {},
     "output_type": "execute_result"
    }
   ],
   "source": [
    "model.layers"
   ]
  },
  {
   "cell_type": "code",
   "execution_count": 84,
   "metadata": {
    "collapsed": false
   },
   "outputs": [],
   "source": [
    "dense_layer = Model(inputs=model.input, outputs=model.layers[-2].output)"
   ]
  },
  {
   "cell_type": "code",
   "execution_count": 86,
   "metadata": {
    "collapsed": false
   },
   "outputs": [
    {
     "data": {
      "text/plain": [
       "(128, 64)"
      ]
     },
     "execution_count": 86,
     "metadata": {},
     "output_type": "execute_result"
    }
   ],
   "source": [
    "# compute activations for a batch of size 128\n",
    "dense_layer_output = dense_layer.predict(X_test[:128])\n",
    "dense_layer_output.shape"
   ]
  },
  {
   "cell_type": "code",
   "execution_count": 89,
   "metadata": {
    "collapsed": false
   },
   "outputs": [
    {
     "data": {
      "text/plain": [
       "(array([50.,  1.,  2.,  1.,  2.,  3.,  4.,  3.,  1.,  3.,  1.,  1.,  1.,\n",
       "         2.,  1.,  1.,  1.,  3.,  0.,  3.,  4.,  1.,  1.,  0.,  2.,  1.,\n",
       "         0.,  1.,  4.,  3.,  3.,  1.,  0.,  2.,  1.,  3.,  0.,  2.,  1.,\n",
       "         2.,  1.,  2.,  2.,  4.,  0.,  0.,  2.,  0.,  0.,  1.]),\n",
       " array([ 0.        ,  0.22657202,  0.45314404,  0.67971605,  0.90628807,\n",
       "         1.13286009,  1.35943211,  1.58600412,  1.81257614,  2.03914816,\n",
       "         2.26572018,  2.49229219,  2.71886421,  2.94543623,  3.17200825,\n",
       "         3.39858027,  3.62515228,  3.8517243 ,  4.07829632,  4.30486834,\n",
       "         4.53144035,  4.75801237,  4.98458439,  5.21115641,  5.43772842,\n",
       "         5.66430044,  5.89087246,  6.11744448,  6.34401649,  6.57058851,\n",
       "         6.79716053,  7.02373255,  7.25030457,  7.47687658,  7.7034486 ,\n",
       "         7.93002062,  8.15659264,  8.38316465,  8.60973667,  8.83630869,\n",
       "         9.06288071,  9.28945272,  9.51602474,  9.74259676,  9.96916878,\n",
       "        10.1957408 , 10.42231281, 10.64888483, 10.87545685, 11.10202887,\n",
       "        11.32860088]),\n",
       " <a list of 50 Patch objects>)"
      ]
     },
     "execution_count": 89,
     "metadata": {},
     "output_type": "execute_result"
    },
    {
     "data": {
      "image/png": "[encoded data removed]",
      "text/plain": [
       "<matplotlib.figure.Figure at 0x229f0e54dd8>"
      ]
     },
     "metadata": {},
     "output_type": "display_data"
    }
   ],
   "source": [
    "# plot the histogram for one of the neurons\n",
    "plt.hist(dense_layer_output[:, 0], bins=50)"
   ]
  },
  {
   "cell_type": "code",
   "execution_count": 101,
   "metadata": {
    "collapsed": false
   },
   "outputs": [
    {
     "data": {
      "text/plain": [
       "(array([50.,  1.,  2.,  1.,  2.,  3.,  4.,  3.,  1.,  3.,  1.,  1.,  1.,\n",
       "         2.,  1.,  1.,  1.,  3.,  0.,  3.,  4.,  1.,  1.,  0.,  2.,  1.,\n",
       "         0.,  1.,  4.,  3.,  3.,  1.,  0.,  2.,  1.,  3.,  0.,  2.,  1.,\n",
       "         2.,  1.,  2.,  2.,  4.,  0.,  0.,  2.,  0.,  0.,  1.]),\n",
       " array([-0.91206974, -0.84794761, -0.78382548, -0.71970336, -0.65558123,\n",
       "        -0.5914591 , -0.52733697, -0.46321485, -0.39909272, -0.33497059,\n",
       "        -0.27084846, -0.20672634, -0.14260421, -0.07848208, -0.01435996,\n",
       "         0.04976217,  0.1138843 ,  0.17800643,  0.24212855,  0.30625068,\n",
       "         0.37037281,  0.43449494,  0.49861706,  0.56273919,  0.62686132,\n",
       "         0.69098344,  0.75510557,  0.8192277 ,  0.88334983,  0.94747195,\n",
       "         1.01159408,  1.07571621,  1.13983834,  1.20396046,  1.26808259,\n",
       "         1.33220472,  1.39632684,  1.46044897,  1.5245711 ,  1.58869323,\n",
       "         1.65281535,  1.71693748,  1.78105961,  1.84518174,  1.90930386,\n",
       "         1.97342599,  2.03754812,  2.10167024,  2.16579237,  2.2299145 ,\n",
       "         2.29403663]),\n",
       " <a list of 50 Patch objects>)"
      ]
     },
     "execution_count": 101,
     "metadata": {},
     "output_type": "execute_result"
    },
    {
     "data": {
      "image/png": "[encoded data removed]",
      "text/plain": [
       "<matplotlib.figure.Figure at 0x2298066bf98>"
      ]
     },
     "metadata": {},
     "output_type": "display_data"
    }
   ],
   "source": [
    "m = dense_layer_output[:, 0].mean()\n",
    "s = dense_layer_output[:, 0].std()\n",
    "plt.hist((dense_layer_output[:, 0] - m) / s, bins=50)"
   ]
  },
  {
   "cell_type": "markdown",
   "metadata": {},
   "source": [
    "#### Applying Batch Normalization to the Network's Layers"
   ]
  },
  {
   "cell_type": "code",
   "execution_count": 76,
   "metadata": {
    "collapsed": false
   },
   "outputs": [],
   "source": [
    "model2 = Sequential()\n",
    "model2.add(Conv2D(32, kernel_size=(3, 3), activation='relu', input_shape=(28, 28, 1)))\n",
    "model2.add(BatchNormalization())\n",
    "model2.add(Conv2D(64, kernel_size=(3, 3), activation='relu'))\n",
    "model2.add(BatchNormalization())\n",
    "model2.add(Flatten())\n",
    "model2.add(Dense(64, activation='relu'))\n",
    "model2.add(BatchNormalization())\n",
    "model2.add(Dense(10, activation='softmax'))"
   ]
  },
  {
   "cell_type": "code",
   "execution_count": 77,
   "metadata": {
    "collapsed": true
   },
   "outputs": [],
   "source": [
    "model2.compile(loss='categorical_crossentropy',\n",
    "              optimizer='adam',\n",
    "              metrics=['accuracy'])"
   ]
  },
  {
   "cell_type": "code",
   "execution_count": 78,
   "metadata": {
    "collapsed": false
   },
   "outputs": [
    {
     "name": "stdout",
     "output_type": "stream",
     "text": [
      "_________________________________________________________________\n",
      "Layer (type)                 Output Shape              Param #   \n",
      "=================================================================\n",
      "conv2d_10 (Conv2D)           (None, 26, 26, 32)        320       \n",
      "_________________________________________________________________\n",
      "batch_normalization_1 (Batch (None, 26, 26, 32)        128       \n",
      "_________________________________________________________________\n",
      "conv2d_11 (Conv2D)           (None, 24, 24, 64)        18496     \n",
      "_________________________________________________________________\n",
      "batch_normalization_2 (Batch (None, 24, 24, 64)        256       \n",
      "_________________________________________________________________\n",
      "flatten_5 (Flatten)          (None, 36864)             0         \n",
      "_________________________________________________________________\n",
      "dense_9 (Dense)              (None, 64)                2359360   \n",
      "_________________________________________________________________\n",
      "batch_normalization_3 (Batch (None, 64)                256       \n",
      "_________________________________________________________________\n",
      "dense_10 (Dense)             (None, 10)                650       \n",
      "=================================================================\n",
      "Total params: 2,379,466\n",
      "Trainable params: 2,379,146\n",
      "Non-trainable params: 320\n",
      "_________________________________________________________________\n"
     ]
    }
   ],
   "source": [
    "model2.summary()"
   ]
  },
  {
   "cell_type": "code",
   "execution_count": 79,
   "metadata": {
    "collapsed": false
   },
   "outputs": [
    {
     "name": "stdout",
     "output_type": "stream",
     "text": [
      "Train on 10000 samples, validate on 1000 samples\n",
      "Epoch 1/5\n",
      "10000/10000 [==============================] - 142s 14ms/step - loss: 0.2908 - acc: 0.9170 - val_loss: 0.1569 - val_acc: 0.9620\n",
      "Epoch 2/5\n",
      "10000/10000 [==============================] - 149s 15ms/step - loss: 0.0745 - acc: 0.9818 - val_loss: 0.1128 - val_acc: 0.9640\n",
      "Epoch 3/5\n",
      "10000/10000 [==============================] - 149s 15ms/step - loss: 0.0295 - acc: 0.9945 - val_loss: 0.0799 - val_acc: 0.9710\n",
      "Epoch 4/5\n",
      "10000/10000 [==============================] - 132s 13ms/step - loss: 0.0192 - acc: 0.9964 - val_loss: 0.0932 - val_acc: 0.9690\n",
      "Epoch 5/5\n",
      "10000/10000 [==============================] - 131s 13ms/step - loss: 0.0080 - acc: 0.9988 - val_loss: 0.0835 - val_acc: 0.9690\n"
     ]
    },
    {
     "data": {
      "text/plain": [
       "<keras.callbacks.History at 0x229e6b7d470>"
      ]
     },
     "execution_count": 79,
     "metadata": {},
     "output_type": "execute_result"
    }
   ],
   "source": [
    "model2.fit(X_train, to_categorical(Y_train),\n",
    "          batch_size=64,\n",
    "          epochs=5,\n",
    "          validation_data=(X_test, to_categorical(Y_test)))\n"
   ]
  },
  {
   "cell_type": "markdown",
   "metadata": {},
   "source": [
    "While batch normalization slightly increased the number of trainable params, it also clearly speeded up the network's training: with it, only 2 epochs were needed to match the accuracy score obtained by the network trained 5 epochs w/o batch normalization."
   ]
  },
  {
   "cell_type": "markdown",
   "metadata": {},
   "source": [
    "#### Plotting the histogram of a neuron's activations after normalization"
   ]
  },
  {
   "cell_type": "code",
   "execution_count": 91,
   "metadata": {
    "collapsed": false
   },
   "outputs": [
    {
     "data": {
      "text/plain": [
       "[<keras.layers.convolutional.Conv2D at 0x229e6ba4470>,\n",
       " <keras.layers.normalization.BatchNormalization at 0x229e6bb8d68>,\n",
       " <keras.layers.convolutional.Conv2D at 0x229e6bb8eb8>,\n",
       " <keras.layers.normalization.BatchNormalization at 0x229e6bb8fd0>,\n",
       " <keras.layers.core.Flatten at 0x229e6cd6ba8>,\n",
       " <keras.layers.core.Dense at 0x229e6d02d30>,\n",
       " <keras.layers.normalization.BatchNormalization at 0x229e6d2bd68>,\n",
       " <keras.layers.core.Dense at 0x229e6e57e80>]"
      ]
     },
     "execution_count": 91,
     "metadata": {},
     "output_type": "execute_result"
    }
   ],
   "source": [
    "model2.layers"
   ]
  },
  {
   "cell_type": "code",
   "execution_count": 93,
   "metadata": {
    "collapsed": true
   },
   "outputs": [],
   "source": [
    "batch_norm_layer = Model(inputs=model2.input, outputs=model2.layers[-2].output)"
   ]
  },
  {
   "cell_type": "code",
   "execution_count": 95,
   "metadata": {
    "collapsed": false
   },
   "outputs": [
    {
     "data": {
      "text/plain": [
       "(128, 64)"
      ]
     },
     "execution_count": 95,
     "metadata": {},
     "output_type": "execute_result"
    }
   ],
   "source": [
    "# compute activations for a batch of size 128\n",
    "bnorm_layer_output = batch_norm_layer.predict(X_test[:128])\n",
    "bnorm_layer_output.shape"
   ]
  },
  {
   "cell_type": "code",
   "execution_count": 100,
   "metadata": {
    "collapsed": false
   },
   "outputs": [
    {
     "data": {
      "text/plain": [
       "(array([54.,  2.,  0.,  2.,  2.,  0.,  3.,  2.,  1.,  2.,  0.,  1.,  2.,\n",
       "         1.,  4.,  3.,  3.,  0.,  5.,  4.,  2.,  0.,  2.,  1.,  1.,  2.,\n",
       "         1.,  0.,  1.,  1.,  1.,  3.,  1.,  4.,  3.,  1.,  4.,  3.,  3.,\n",
       "         1.,  0.,  0.,  1.,  0.,  0.,  0.,  0.,  0.,  0.,  1.]),\n",
       " array([-1.04833174, -0.97165818, -0.89498463, -0.81831107, -0.74163752,\n",
       "        -0.66496396, -0.58829041, -0.51161685, -0.43494329, -0.35826974,\n",
       "        -0.28159618, -0.20492263, -0.12824907, -0.05157552,  0.02509804,\n",
       "         0.10177159,  0.17844515,  0.2551187 ,  0.33179226,  0.40846581,\n",
       "         0.48513937,  0.56181293,  0.63848648,  0.71516004,  0.79183359,\n",
       "         0.86850715,  0.9451807 ,  1.02185426,  1.09852781,  1.17520137,\n",
       "         1.25187492,  1.32854848,  1.40522203,  1.48189559,  1.55856915,\n",
       "         1.6352427 ,  1.71191626,  1.78858981,  1.86526337,  1.94193692,\n",
       "         2.01861048,  2.09528403,  2.17195759,  2.24863114,  2.3253047 ,\n",
       "         2.40197825,  2.47865181,  2.55532537,  2.63199892,  2.70867248,\n",
       "         2.78534603]),\n",
       " <a list of 50 Patch objects>)"
      ]
     },
     "execution_count": 100,
     "metadata": {},
     "output_type": "execute_result"
    },
    {
     "data": {
      "image/png": "[encoded data removed]",
      "text/plain": [
       "<matplotlib.figure.Figure at 0x229805fca90>"
      ]
     },
     "metadata": {},
     "output_type": "display_data"
    }
   ],
   "source": [
    "# plot the histogram for one of the neurons\n",
    "plt.hist(bnorm_layer_output[:, 0], bins=50)"
   ]
  }
 ],
 "metadata": {
  "kernelspec": {
   "display_name": "Python [default]",
   "language": "python",
   "name": "python3"
  },
  "language_info": {
   "codemirror_mode": {
    "name": "ipython",
    "version": 3
   },
   "file_extension": ".py",
   "mimetype": "text/x-python",
   "name": "python",
   "nbconvert_exporter": "python",
   "pygments_lexer": "ipython3",
   "version": "3.5.2"
  }
 },
 "nbformat": 4,
 "nbformat_minor": 1
}
