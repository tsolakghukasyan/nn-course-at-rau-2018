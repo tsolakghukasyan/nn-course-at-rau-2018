{
 "cells": [
  {
   "cell_type": "code",
   "execution_count": 46,
   "metadata": {},
   "outputs": [],
   "source": [
    "import keras\n",
    "from keras.datasets import mnist\n",
    "from keras.models import Sequential\n",
    "from keras.layers import Dense, Dropout\n",
    "from keras.optimizers import RMSprop\n",
    "from skimage import io\n",
    "import os\n",
    "import numpy as np"
   ]
  },
  {
   "cell_type": "markdown",
   "metadata": {},
   "source": [
    "### hyperparameters"
   ]
  },
  {
   "cell_type": "code",
   "execution_count": 91,
   "metadata": {},
   "outputs": [],
   "source": [
    "batch_size = 5\n",
    "num_classes = 2\n",
    "epochs = 5"
   ]
  },
  {
   "cell_type": "markdown",
   "metadata": {},
   "source": [
    "### train, test data"
   ]
  },
  {
   "cell_type": "code",
   "execution_count": 92,
   "metadata": {},
   "outputs": [],
   "source": [
    "def read_images(path, label=1):\n",
    "    data = []\n",
    "    for img in os.listdir(path):\n",
    "        data.append(io.imread(path + '/' + img, as_grey=True).reshape(1024))\n",
    "    return data, [label] * len(data)"
   ]
  },
  {
   "cell_type": "code",
   "execution_count": 93,
   "metadata": {},
   "outputs": [],
   "source": [
    "def compile_set(path, label):    \n",
    "    x_train, y_train = read_images(path + '/train', label)\n",
    "    x_dev, y_dev = read_images(path + '/dev', label)\n",
    "    x_test, y_test = read_images(path + '/test', label)\n",
    "    return {'train': (x_train, y_train),\n",
    "            'dev': (x_dev, y_dev),\n",
    "            'test': (x_test, y_test)}"
   ]
  },
  {
   "cell_type": "code",
   "execution_count": 94,
   "metadata": {},
   "outputs": [
    {
     "name": "stdout",
     "output_type": "stream",
     "text": [
      "20 train samples\n",
      "4 development samples\n",
      "4 test samples\n"
     ]
    }
   ],
   "source": [
    "# the data, split between train and test sets\n",
    "phone_set = compile_set('phone_dataset', label=0)\n",
    "hammer_set = compile_set('hammer_dataset', label=1)\n",
    "\n",
    "x_train = np.array(phone_set['train'][0] + hammer_set['train'][0])\n",
    "y_train = np.array(phone_set['train'][1] + hammer_set['train'][1])\n",
    "\n",
    "x_dev = np.array(phone_set['dev'][0] + hammer_set['dev'][0])\n",
    "y_dev = np.array(phone_set['dev'][1] + hammer_set['dev'][1])\n",
    "\n",
    "x_test = np.array(phone_set['test'][0] + hammer_set['test'][0])\n",
    "y_test = np.array(phone_set['test'][1] + hammer_set['test'][1])\n",
    "\n",
    "print(x_train.shape[0], 'train samples')\n",
    "print(x_dev.shape[0], 'development samples')\n",
    "print(x_test.shape[0], 'test samples')"
   ]
  },
  {
   "cell_type": "markdown",
   "metadata": {},
   "source": [
    "### neural network classifier"
   ]
  },
  {
   "cell_type": "code",
   "execution_count": 96,
   "metadata": {},
   "outputs": [
    {
     "name": "stdout",
     "output_type": "stream",
     "text": [
      "_________________________________________________________________\n",
      "Layer (type)                 Output Shape              Param #   \n",
      "=================================================================\n",
      "dense_22 (Dense)             (None, 64)                65600     \n",
      "_________________________________________________________________\n",
      "dropout_12 (Dropout)         (None, 64)                0         \n",
      "_________________________________________________________________\n",
      "dense_23 (Dense)             (None, 1)                 65        \n",
      "=================================================================\n",
      "Total params: 65,665\n",
      "Trainable params: 65,665\n",
      "Non-trainable params: 0\n",
      "_________________________________________________________________\n"
     ]
    }
   ],
   "source": [
    "model = Sequential()\n",
    "model.add(Dense(64, activation='relu', input_shape=(1024,)))\n",
    "model.add(Dropout(0.5))\n",
    "model.add(Dense(1, activation='sigmoid'))\n",
    "\n",
    "model.summary()\n",
    "\n",
    "model.compile(loss='binary_crossentropy',\n",
    "              optimizer=RMSprop(),\n",
    "              metrics=['accuracy'])"
   ]
  },
  {
   "cell_type": "markdown",
   "metadata": {},
   "source": [
    "### training"
   ]
  },
  {
   "cell_type": "code",
   "execution_count": 97,
   "metadata": {},
   "outputs": [
    {
     "name": "stdout",
     "output_type": "stream",
     "text": [
      "Train on 20 samples, validate on 4 samples\n",
      "Epoch 1/5\n",
      "20/20 [==============================] - 1s 44ms/step - loss: 7.4974 - acc: 0.5000 - val_loss: 7.9712 - val_acc: 0.5000\n",
      "Epoch 2/5\n",
      "20/20 [==============================] - 0s 403us/step - loss: 9.6052 - acc: 0.4000 - val_loss: 7.9712 - val_acc: 0.5000\n",
      "Epoch 3/5\n",
      "20/20 [==============================] - 0s 822us/step - loss: 7.9784 - acc: 0.5000 - val_loss: 7.9712 - val_acc: 0.5000\n",
      "Epoch 4/5\n",
      "20/20 [==============================] - 0s 515us/step - loss: 7.9721 - acc: 0.5000 - val_loss: 7.9712 - val_acc: 0.5000\n",
      "Epoch 5/5\n",
      "20/20 [==============================] - 0s 346us/step - loss: 7.9849 - acc: 0.5000 - val_loss: 7.9712 - val_acc: 0.5000\n"
     ]
    }
   ],
   "source": [
    "history = model.fit(x_train, y_train,\n",
    "                    batch_size=batch_size,\n",
    "                    epochs=epochs,\n",
    "                    verbose=1,\n",
    "                    validation_data=(x_dev, y_dev))"
   ]
  },
  {
   "cell_type": "code",
   "execution_count": 98,
   "metadata": {},
   "outputs": [
    {
     "name": "stdout",
     "output_type": "stream",
     "text": [
      "Dev loss: 7.971192359924316\n",
      "Dev accuracy: 0.5\n"
     ]
    }
   ],
   "source": [
    "score = model.evaluate(x_dev, y_dev, verbose=0)\n",
    "print('Dev loss:', score[0])\n",
    "print('Dev accuracy:', score[1])"
   ]
  },
  {
   "cell_type": "markdown",
   "metadata": {},
   "source": [
    "### accuracy"
   ]
  },
  {
   "cell_type": "code",
   "execution_count": 99,
   "metadata": {},
   "outputs": [
    {
     "name": "stdout",
     "output_type": "stream",
     "text": [
      "Test loss: 7.971192359924316\n",
      "Test accuracy: 0.5\n"
     ]
    }
   ],
   "source": [
    "score = model.evaluate(x_test, y_test, verbose=0)\n",
    "print('Test loss:', score[0])\n",
    "print('Test accuracy:', score[1])"
   ]
  }
 ],
 "metadata": {
  "kernelspec": {
   "display_name": "Python 3",
   "language": "python",
   "name": "python3"
  },
  "language_info": {
   "codemirror_mode": {
    "name": "ipython",
    "version": 3
   },
   "file_extension": ".py",
   "mimetype": "text/x-python",
   "name": "python",
   "nbconvert_exporter": "python",
   "pygments_lexer": "ipython3",
   "version": "3.5.2"
  }
 },
 "nbformat": 4,
 "nbformat_minor": 2
}
